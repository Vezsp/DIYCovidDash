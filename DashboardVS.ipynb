{
 "cells": [
  {
   "cell_type": "markdown",
   "id": "09d05b1d",
   "metadata": {},
   "source": [
    "## Covid-19 Dashboard"
   ]
  },
  {
   "cell_type": "markdown",
   "id": "acb327a3",
   "metadata": {},
   "source": [
    "Coursework Assignment: DIY Covid19 Dashboard \n",
    "ECS780P - Computer Programming - 2021/22"
   ]
  },
  {
   "cell_type": "markdown",
   "id": "56a83e54",
   "metadata": {},
   "source": [
    "Since the beginning of the pandemic, statistics on hospital admissions and occupation of ventilator beds have been vital for understanding the level of spread of the Coronavirus and the severity of the illness. Below is a graph that shows the data, currently stored by the UK government, on how many hospital admissions there are on a daily basis (due to the Coronavirus) and how many mechnically ventilated beds are occupied daily. The data started being collected on slightly different days, but all around the time when the first lockdown occurred. *Exact dates are given below the graph.*"
   ]
  },
  {
   "cell_type": "markdown",
   "id": "9e3a60e8",
   "metadata": {},
   "source": [
    "The graph will automatically show you the data for England. "
   ]
  },
  {
   "cell_type": "markdown",
   "id": "8bea6d00",
   "metadata": {},
   "source": [
    "*Please use Ctrl and Click in order to view both hospital admissions and ventilator bed occupation at the same time.*"
   ]
  },
  {
   "cell_type": "markdown",
   "id": "11c3d952",
   "metadata": {},
   "source": [
    "If you would like to compare this to Wales (or see the most up to date data on England), then please select the relevant 'API' button and wait until the button sign changes to a tick. Please see below the graph for specifics on when the data is collected and reported. "
   ]
  },
  {
   "cell_type": "code",
   "execution_count": 2,
   "id": "8b8ed5e2",
   "metadata": {},
   "outputs": [],
   "source": [
    "from IPython.display import clear_output\n",
    "import ipywidgets as wdg\n",
    "import pandas as pd\n",
    "import numpy as np\n",
    "import matplotlib.pyplot as plt\n",
    "import json\n",
    "from uk_covid19 import Cov19API"
   ]
  },
  {
   "cell_type": "code",
   "execution_count": 3,
   "id": "45d56418",
   "metadata": {},
   "outputs": [],
   "source": [
    "%matplotlib inline\n",
    "# make figures larger\n",
    "plt.rcParams['figure.dpi'] = 100"
   ]
  },
  {
   "cell_type": "code",
   "execution_count": 5,
   "id": "6cbaa78b",
   "metadata": {},
   "outputs": [],
   "source": [
    "with open(\"admisvsventbeds.json\", \"rt\") as jsonfile:\n",
    "    jsonwalesdata=json.load(jsonfile) #loads in the json file for Englands data that I have saved/submitted. "
   ]
  },
  {
   "cell_type": "code",
   "execution_count": 24,
   "id": "2a763d7d",
   "metadata": {},
   "outputs": [],
   "source": [
    "def parse_date(datestring):\n",
    "    \"\"\" Convert a date string into a pandas datetime object \"\"\"\n",
    "    return pd.to_datetime(datestring, format=\"%Y-%m-%d\")\n",
    "\n",
    "def wrangle_data(rawdata):\n",
    "    dicentries=rawdata['data']\n",
    "    dates=[entryrow['Date'] for entryrow in dicentries ]\n",
    "    dates.sort()\n",
    "    global startdate\n",
    "    global enddate\n",
    "    startdate=parse_date(dates[0])\n",
    "    enddate=parse_date(dates[-1])\n",
    "    index=pd.date_range(startdate, enddate, freq='D')\n",
    "    templatedataframe=pd.DataFrame(index=index, columns=['Hospitaladmissions', 'Ventilatorbeds'])\n",
    "    for row in dicentries:\n",
    "        date=parse_date(row['Date'])\n",
    "        for column in ['Hospitaladmissions', 'Ventilatorbeds']:\n",
    "            if pd.isna(templatedataframe.loc[date, column]):  \n",
    "                value= float(row[column]) if row[column]!=None else 0.0\n",
    "                templatedataframe.loc[date, column]=value\n",
    "    return(templatedataframe)\n",
    "    \n",
    "jsonwrangled=wrangle_data(jsonwalesdata)"
   ]
  },
  {
   "cell_type": "code",
   "execution_count": 15,
   "id": "3a4cc51f",
   "metadata": {},
   "outputs": [],
   "source": [
    "def access_wales_api():\n",
    "    filters = [\n",
    "        \"areaType=nation\",\n",
    "        \"areaName=Wales\"\n",
    "] #using the areaName=Wales filter to allow for wales specific data\n",
    "\n",
    "    structure = {\n",
    "        \"Date\":\"date\",\n",
    "        \"Hospitaladmissions\":\"newAdmissions\",\n",
    "        \"Ventilatorbeds\":\"covidOccupiedMVBeds\"}\n",
    "\n",
    "    api = Cov19API(filters=filters, structure=structure)\n",
    "    data=api.get_json()\n",
    "    return data"
   ]
  },
  {
   "cell_type": "code",
   "execution_count": 8,
   "id": "aead8f9d",
   "metadata": {},
   "outputs": [],
   "source": [
    "def access_england_api():\n",
    "    filters = [\n",
    "        \"areaType=nation\",\n",
    "        \"areaName=England\"\n",
    "]#using the areaName=England filter to allow for England specific data\n",
    "\n",
    "    structure = {\n",
    "        \"Date\":\"date\",\n",
    "        \"Hospitaladmissions\":\"newAdmissions\",\n",
    "        \"Ventilatorbeds\":\"covidOccupiedMVBeds\"}\n",
    "\n",
    "    api = Cov19API(filters=filters, structure=structure)\n",
    "    data=api.get_json()\n",
    "    return data"
   ]
  },
  {
   "cell_type": "code",
   "execution_count": 28,
   "id": "f63be234",
   "metadata": {},
   "outputs": [],
   "source": [
    "def loc_graph(buttonvalues): #plots the graph and changes the description based on which option is selected\n",
    "        jsonwrangled.plot(kind='line', y=list(buttonvalues))\n",
    "        plt.show()\n",
    "        print('The graph runs from ' + str(startdate) + ' to '+ str(enddate)) #shows dates covered in the graph and updates when the API is loaded in.\n",
    "        description_of_options() #changes the descriptions along with when the API changes.\n",
    "        \n",
    "        \n",
    "            \n",
    "selection=wdg.SelectMultiple(\n",
    "    options=['Hospitaladmissions', 'Ventilatorbeds'],\n",
    "    value=['Hospitaladmissions'],\n",
    "    rows=2,\n",
    "    description='Data: ',\n",
    "    disabled=False)\n",
    "\n",
    "\n",
    "\n",
    "def refresh_graph():\n",
    "    current=selection.value\n",
    "    if selection.options[0] in current:\n",
    "        other=(selection.options[1],)\n",
    "    else:\n",
    "        other=(selection.options[0],)\n",
    "    selection.value=other\n",
    "    selection.value=current\n",
    "    \n",
    "admissionsmetric=\"\"\"Covid19 hospital admissions:\n",
    "England:Reporting dates reflect admissions and new inpatient diagnoses for the previous day. \n",
    "Daily data at NHS Trust level is reported weekly on Thursdays.\n",
    "Wales: Data are collected in a daily return from Digital Health and Care Wales (DHCW) \n",
    "and are reported daily Monday to Friday by StatsWales.\"\"\"\n",
    "ventilatormetric=\"\"\"Currently occupied ventilator beds:\n",
    "England: Data are collected daily and reported daily by NHS Trusts to NHS England and NHS Improvement. \n",
    "Daily data at NHS Trust level is reported weekly on Thursdays.\n",
    "Wales: Data are collected in a daily return from Digital Health and Care Wales (DHCW) \n",
    "and are reported daily Monday to Friday by StatsWales.\"\"\"\n",
    "    \n",
    "    \n",
    "def description_of_options(): #wanted the description of how the data is reported for both hospital admissions \n",
    "    #and ventilator beds to be noted since I would want whoever reading to know that they are reported slightly differently. \n",
    "    \"Retrieves a pre-written script related to which option is selected from the widget previously made\"\n",
    "    current=selection.value\n",
    "    if selection.options[0]in current: \n",
    "        print(admissionsmetric)\n",
    "    else:\n",
    "        print(ventilatormetric)\n",
    "    \n",
    "    \n",
    "    \n",
    "graph=wdg.interactive_output(loc_graph, {'buttonvalues': selection})\n",
    "\n",
    "\n",
    "\n",
    "layout=wdg.HBox([graph, selection])#changes the layout so that the widget and graph are side by side"
   ]
  },
  {
   "cell_type": "code",
   "execution_count": 10,
   "id": "a12f043e",
   "metadata": {},
   "outputs": [],
   "source": [
    "def wales_api_button_callback(button):\n",
    "    \"\"\" Button callback - accesses Wales specific API data, wrangles it and converts to a dataframe \"\"\"\n",
    "    apidata=access_wales_api()\n",
    "    global jsonwrangled\n",
    "    jsonwrangled=wrangle_data(apidata) \n",
    "    refresh_graph()\n",
    "    apibutton.icon=\"check\"\n",
    "    #apibutton.disabled=True\n",
    "\n",
    "    \n",
    "apibutton=wdg.Button(\n",
    "    description='Wales API', \n",
    "    disabled=False,\n",
    "    button_style='info', \n",
    "    tooltip=\"click to receive API data on Wales\",\n",
    "    icon='fa-paper-plane'\n",
    ")\n",
    "\n",
    "apibutton.on_click(wales_api_button_callback)"
   ]
  },
  {
   "cell_type": "code",
   "execution_count": 14,
   "id": "2b180e29",
   "metadata": {},
   "outputs": [],
   "source": [
    "def england_api_button_callback(button):\n",
    "    \"\"\" Button callback - accesses England specific API data, wrangles it and converts to a dataframe\"\"\"\n",
    "    apidata=access_england_api()\n",
    "    global jsonwrangled\n",
    "    jsonwrangled=wrangle_data(apidata)\n",
    "    refresh_graph()\n",
    "    apibutton2.icon=\"check\"\n",
    "    #apibutton2.disabled=True\n",
    "\n",
    "    \n",
    "apibutton2=wdg.Button(\n",
    "    description='England API', \n",
    "    disabled=False,\n",
    "    button_style='info', \n",
    "    tooltip=\"click to receive API data on England\",\n",
    "    icon='fa-paper-plane'\n",
    ")\n",
    "\n",
    "apibutton2.on_click(england_api_button_callback)\n"
   ]
  },
  {
   "cell_type": "code",
   "execution_count": 27,
   "id": "9777ca5c",
   "metadata": {},
   "outputs": [
    {
     "data": {
      "application/vnd.jupyter.widget-view+json": {
       "model_id": "5750d1ba3713408da37ff5a190f64de2",
       "version_major": 2,
       "version_minor": 0
      },
      "text/plain": [
       "HBox(children=(Button(button_style='info', description='Wales API', icon='check', style=ButtonStyle(), tooltip…"
      ]
     },
     "metadata": {},
     "output_type": "display_data"
    }
   ],
   "source": [
    "buttonlayout=wdg.HBox([apibutton, apibutton2]) #puts the buttons next to each other. \n",
    "display(buttonlayout)\n"
   ]
  },
  {
   "cell_type": "markdown",
   "id": "e1c7d1b2",
   "metadata": {},
   "source": [
    "*Please note that the scale of the y-axis changes between England and Wales*"
   ]
  },
  {
   "cell_type": "code",
   "execution_count": 29,
   "id": "0e7eefa5",
   "metadata": {},
   "outputs": [
    {
     "data": {
      "application/vnd.jupyter.widget-view+json": {
       "model_id": "3f30ca72c44a412dbbfea5772ba89473",
       "version_major": 2,
       "version_minor": 0
      },
      "text/plain": [
       "HBox(children=(Output(outputs=({'output_type': 'display_data', 'data': {'text/plain': '<Figure size 600x400 wi…"
      ]
     },
     "metadata": {},
     "output_type": "display_data"
    }
   ],
   "source": [
    "display(layout) #displays both the loc_graph function result and the widget"
   ]
  },
  {
   "cell_type": "markdown",
   "id": "935c9c21",
   "metadata": {},
   "source": [
    "If you would like further information on the metrics used in these graphs, then please visit https://coronavirus.data.gov.uk/metrics and search the metric names 'newAdmissions' or 'covidoccupiedmvbeds'."
   ]
  },
  {
   "cell_type": "markdown",
   "id": "077a599e",
   "metadata": {},
   "source": [
    "<br/>"
   ]
  },
  {
   "cell_type": "markdown",
   "id": "f427a4aa",
   "metadata": {},
   "source": [
    "When comparing the data from both, just based on the y-axis alone, you can see that the hospital admission rates and ventilator bed occupation is significantly lower in Wales than it is England. This could be down to difference in population size or how each country managed Covid restrictions. "
   ]
  },
  {
   "cell_type": "markdown",
   "id": "f34ee783",
   "metadata": {},
   "source": [
    "  ---"
   ]
  },
  {
   "cell_type": "markdown",
   "id": "bb289101",
   "metadata": {},
   "source": [
    "(C) **2021 Verity Spinks** (v.a.r.spinks@se21.qmul.ac.uk - web), all rights reserved.\n",
    "Data source: *Based on UK Government [data](https://coronavirus.data.gov.uk/) published by [Public Health England](https://www.gov.uk/government/organisations/public-health-england).*\n",
    "Coding reference: Fabrizio Smeraldi (f.smeraldi@qmul.ac.uk - web) from documents 'Accessing PHE Covid Data', 'Visualising the data', 'Adding interactive controls' and 'DIY Covid-19 Dashboard'. "
   ]
  }
 ],
 "metadata": {
  "kernelspec": {
   "display_name": "Python 3 (ipykernel)",
   "language": "python",
   "name": "python3"
  },
  "language_info": {
   "codemirror_mode": {
    "name": "ipython",
    "version": 3
   },
   "file_extension": ".py",
   "mimetype": "text/x-python",
   "name": "python",
   "nbconvert_exporter": "python",
   "pygments_lexer": "ipython3",
   "version": "3.9.7"
  }
 },
 "nbformat": 4,
 "nbformat_minor": 5
}
